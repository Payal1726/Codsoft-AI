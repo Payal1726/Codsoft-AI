{
 "cells": [
  {
   "cell_type": "code",
   "execution_count": 1,
   "id": "f38244a2",
   "metadata": {},
   "outputs": [
    {
     "name": "stdout",
     "output_type": "stream",
     "text": [
      "User: hello\n",
      "Chatbot: Hello! How can I help you today?\n",
      "User: what is your name\n",
      "Chatbot: My name is Chatbot.\n",
      "User: how are you\n",
      "Chatbot: I am doing well, thank you.\n",
      "User: what is the whether today\n",
      "Chatbot: I'm sorry, I don't understand.\n",
      "User: what is the time\n",
      "Chatbot: I do not have access to real-time information, so I cannot provide you with the current time.\n",
      "User: what is the date today\n",
      "Chatbot: I do not have access to real-time information, so I cannot provide you with the current date.\n",
      "User: who is the president of the united states\n",
      "Chatbot: The current president of the United States is Joe Biden.\n",
      "User: what is the capital of france\n",
      "Chatbot: The capital of France is Paris.\n",
      "User: what is the speed of light\n",
      "Chatbot: The speed of light is approximately 299,792,458 meters per second.\n",
      "User: what is the meaning of life\n",
      "Chatbot: The meaning of life is a philosophical question that has been debated for centuries. There is no one definitive answer, but some common themes include finding purpose, happiness, and fulfillment.\n",
      "User: what is the secret of happiness\n",
      "Chatbot: I'm sorry, I don't understand.\n",
      "User: what is the secret to happiness\n",
      "Chatbot: The secret to happiness is different for everyone, but some common ingredients include gratitude, kindness, and spending time with loved ones.\n",
      "User: good bye thank you\n",
      "Chatbot: I'm sorry, I don't understand.\n",
      "User: good bye\n",
      "Chatbot: I'm sorry, I don't understand.\n",
      "User: goodbye\n",
      "Chatbot: Goodbye! Have a nice day.\n"
     ]
    }
   ],
   "source": [
    "\n",
    "# Import the necessary libraries\n",
    "import re\n",
    "\n",
    "# Define the chatbot's responses\n",
    "responses = {\n",
    "    \"hello\": \"Hello! How can I help you today?\",\n",
    "    \"what is your name\": \"My name is Chatbot.\",\n",
    "    \"how are you\": \"I am doing well, thank you.\",\n",
    "    \"what is the weather today\": \"I do not have access to real-time information, so I cannot provide you with the weather forecast.\",\n",
    "    \"thank you\": \"You're welcome!\",\n",
    "    \"goodbye\": \"Goodbye! Have a nice day.\",\n",
    "    \"what is the time\": \"I do not have access to real-time information, so I cannot provide you with the current time.\",\n",
    "    \"what is the date today\": \"I do not have access to real-time information, so I cannot provide you with the current date.\",\n",
    "    \"who is the president of the united states\": \"The current president of the United States is Joe Biden.\",\n",
    "    \"what is the capital of france\": \"The capital of France is Paris.\",\n",
    "    \"what is the population of the earth\": \"The current population of the Earth is estimated to be around 8 billion people.\",\n",
    "    \"what is the speed of light\": \"The speed of light is approximately 299,792,458 meters per second.\",\n",
    "    \"what is the meaning of life\": \"The meaning of life is a philosophical question that has been debated for centuries. There is no one definitive answer, but some common themes include finding purpose, happiness, and fulfillment.\",\n",
    "    \"what is the best way to learn a new language\": \"The best way to learn a new language is to immerse yourself in it. This means listening to music, watching movies, reading books, and speaking to native speakers as much as possible.\",\n",
    "    \"what is the secret to happiness\": \"The secret to happiness is different for everyone, but some common ingredients include gratitude, kindness, and spending time with loved ones.\"\n",
    "}\n",
    "\n",
    "# Define the chatbot's main function\n",
    "def chatbot():\n",
    "    # Create an infinite loop to keep the chatbot running\n",
    "    while True:\n",
    "        # Get the user's input\n",
    "        user_input = input(\"User: \")\n",
    "\n",
    "        # Preprocess the user's input by converting it to lowercase and removing any punctuation\n",
    "        user_input = user_input.lower().strip(\".,!?\").strip()\n",
    "\n",
    "        # Check if the user's input is in the list of responses\n",
    "        if user_input in responses:\n",
    "            # If the user's input is in the list of responses, get the corresponding response\n",
    "            response = responses[user_input]\n",
    "        else:\n",
    "            # If the user's input is not in the list of responses, generate a generic response\n",
    "            response = \"I'm sorry, I don't understand.\"\n",
    "\n",
    "        # Print the chatbot's response\n",
    "        print(\"Chatbot:\", response)\n",
    "\n",
    "        # Check if the user wants to exit the chatbot\n",
    "        if user_input == \"goodbye\":\n",
    "            break\n",
    "\n",
    "# Run the chatbot\n",
    "chatbot()\n"
   ]
  },
  {
   "cell_type": "code",
   "execution_count": null,
   "id": "9222f417",
   "metadata": {},
   "outputs": [],
   "source": []
  },
  {
   "cell_type": "code",
   "execution_count": null,
   "id": "efd128c7",
   "metadata": {},
   "outputs": [],
   "source": []
  }
 ],
 "metadata": {
  "kernelspec": {
   "display_name": "Python 3 (ipykernel)",
   "language": "python",
   "name": "python3"
  },
  "language_info": {
   "codemirror_mode": {
    "name": "ipython",
    "version": 3
   },
   "file_extension": ".py",
   "mimetype": "text/x-python",
   "name": "python",
   "nbconvert_exporter": "python",
   "pygments_lexer": "ipython3",
   "version": "3.11.5"
  }
 },
 "nbformat": 4,
 "nbformat_minor": 5
}
